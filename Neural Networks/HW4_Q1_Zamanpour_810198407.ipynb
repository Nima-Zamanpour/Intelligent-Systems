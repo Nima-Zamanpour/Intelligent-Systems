{
 "cells": [
  {
   "cell_type": "code",
   "execution_count": 1,
   "metadata": {},
   "outputs": [],
   "source": [
    "import torch\n",
    "import torch.nn as nn\n",
    "import numpy as np"
   ]
  },
  {
   "cell_type": "code",
   "execution_count": 2,
   "metadata": {},
   "outputs": [],
   "source": [
    "x1 = torch.tensor([[7],[0],[7]],dtype=torch.float32).view(1,3)\n",
    "x2 = torch.tensor([[0],[7],[0]],dtype=torch.float32).view(1,3)\n",
    "y1 = torch.tensor([[7]],dtype=torch.float32)\n",
    "y2 = torch.tensor([[0]],dtype=torch.float32)\n",
    "\n",
    "\n",
    "w1 = torch.tensor([[0.7,0],[2.1,0],[3.5,0]],dtype=torch.float32)\n",
    "w1 = torch.transpose(w1,1,0)\n",
    "w2 = torch.tensor([[7.15,7.25,7.35],[0.45,0.55,0.65]],dtype=torch.float32)\n",
    "w2 = torch.transpose(w2,1,0)\n",
    "w3 = torch.tensor([[0.12,0.22],[0.32,0.42],[0.52,0.62]],dtype=torch.float32)\n",
    "w3 = torch.transpose(w3,1,0)\n",
    "w4 = torch.tensor([[7.16,7.36]],dtype=torch.float32)\n",
    "\n",
    "b1 = torch.tensor([[0.7],[0]],dtype=torch.float32)\n",
    "b1 = torch.transpose(b1,1,0)\n",
    "b2 = torch.tensor([[7.15],[7.25],[7.35]],dtype=torch.float32)\n",
    "b2 = torch.transpose(b2,1,0)\n",
    "b3 = torch.tensor([[7.12],[7.22]],dtype=torch.float32)\n",
    "b3 = torch.transpose(b3,1,0)\n",
    "b4 = torch.tensor([6.74],dtype=torch.float32)"
   ]
  },
  {
   "cell_type": "code",
   "execution_count": 3,
   "metadata": {},
   "outputs": [],
   "source": [
    "class MyNN(nn.Module):\n",
    "  def __init__(self):\n",
    "    super().__init__()\n",
    "    self.fc1 = nn.Linear(3,2)\n",
    "    self.fc1.weight = nn.Parameter(w1)\n",
    "    self.fc1.bias = nn.Parameter(b1)\n",
    "\n",
    "    self.tanh= nn.Tanh()\n",
    "    \n",
    "    self.fc2 = nn.Linear(2,3)\n",
    "    self.fc2.weight = nn.Parameter(w2)\n",
    "    self.fc2.bias = nn.Parameter(b2)\n",
    "\n",
    "    self.sigmoid= nn.Sigmoid()\n",
    "\n",
    "    self.fc3 = nn.Linear(3,2)\n",
    "    self.fc3.weight = nn.Parameter(w3)\n",
    "    self.fc3.bias = nn.Parameter(b3)\n",
    "\n",
    "    self.fc4 = nn.Linear(2,1)\n",
    "    self.fc4.weight = nn.Parameter(w4)\n",
    "    self.fc4.bias = nn.Parameter(b4)\n",
    "\n",
    "    self.relu1= nn.ReLU()\n",
    "\n",
    "  def forward(self, input):\n",
    "    y = self.fc1(input)\n",
    "    y = self.tanh(y)\n",
    "    y = self.fc2(y)\n",
    "    y = self.sigmoid(y)\n",
    "    y = self.fc3(y)\n",
    "    y = self.tanh(y)\n",
    "    y = self.fc4(y)\n",
    "    y = self.relu1(y)\n",
    "    return y\n",
    "\n",
    "\n",
    "mymodel = MyNN()\n",
    "criterion = nn.MSELoss()\n",
    "opt = torch.optim.SGD(mymodel.parameters(),lr = 0.1)"
   ]
  },
  {
   "attachments": {},
   "cell_type": "markdown",
   "metadata": {},
   "source": [
    "### First Update"
   ]
  },
  {
   "cell_type": "code",
   "execution_count": 4,
   "metadata": {},
   "outputs": [],
   "source": [
    "output = mymodel.forward(x1)\n",
    "loss = criterion(y1, output)/2\n",
    "loss.backward()\n",
    "opt.step()\n",
    "opt.zero_grad()"
   ]
  },
  {
   "cell_type": "code",
   "execution_count": 5,
   "metadata": {},
   "outputs": [
    {
     "name": "stdout",
     "output_type": "stream",
     "text": [
      "Weights biases after first update:\n",
      "W1:\n",
      "[[ 0.7 -0. ]\n",
      " [ 2.1  0. ]\n",
      " [ 3.5 -0. ]]\n",
      "B1:\n",
      "[[ 0.7]\n",
      " [-0. ]]\n",
      "W2:\n",
      "[[7.15 7.25 7.35]\n",
      " [0.45 0.55 0.65]]\n",
      "B2:\n",
      "[[7.15]\n",
      " [7.25]\n",
      " [7.35]]\n",
      "W3:\n",
      "[[0.12 0.22]\n",
      " [0.32 0.42]\n",
      " [0.52 0.62]]\n",
      "B3:\n",
      "[[7.12]\n",
      " [7.22]]\n",
      "W4:\n",
      "[[5.734]\n",
      " [5.934]]\n",
      "B4:\n",
      "[5.314]\n"
     ]
    }
   ],
   "source": [
    "w11 = np.transpose(mymodel.fc1.weight.detach().numpy().round(3))\n",
    "w12 = np.transpose(mymodel.fc2.weight.detach().numpy().round(3))\n",
    "w13 = np.transpose(mymodel.fc3.weight.detach().numpy().round(3))\n",
    "w14 = np.transpose(mymodel.fc4.weight.detach().numpy().round(3))\n",
    "\n",
    "b11 = np.transpose(mymodel.fc1.bias.detach().numpy().round(3))\n",
    "b12 = np.transpose(mymodel.fc2.bias.detach().numpy().round(3))\n",
    "b13 = np.transpose(mymodel.fc3.bias.detach().numpy().round(3))\n",
    "b14 = np.transpose(mymodel.fc4.bias.detach().numpy().round(3))\n",
    "print(\"Weights biases after first update:\")\n",
    "print(\"W1:\")\n",
    "print(w11)\n",
    "print(\"B1:\")\n",
    "print(b11)\n",
    "print(\"W2:\")\n",
    "print(w12)\n",
    "print(\"B2:\")\n",
    "print(b12)\n",
    "print(\"W3:\")\n",
    "print(w13)\n",
    "print(\"B3:\")\n",
    "print(b13)\n",
    "print(\"W4:\")\n",
    "print(w14)\n",
    "print(\"B4:\")\n",
    "print(b14)"
   ]
  },
  {
   "attachments": {},
   "cell_type": "markdown",
   "metadata": {},
   "source": [
    "### Second Update"
   ]
  },
  {
   "cell_type": "code",
   "execution_count": 6,
   "metadata": {},
   "outputs": [],
   "source": [
    "output = mymodel.forward(x2)\n",
    "loss = criterion(y2, output)/2\n",
    "loss.backward()\n",
    "opt.step()\n",
    "opt.zero_grad()"
   ]
  },
  {
   "cell_type": "code",
   "execution_count": 7,
   "metadata": {},
   "outputs": [
    {
     "name": "stdout",
     "output_type": "stream",
     "text": [
      "Weights biases after second update:\n",
      "W1:\n",
      "[[ 0.7 -0. ]\n",
      " [ 2.1 -0. ]\n",
      " [ 3.5 -0. ]]\n",
      "B1:\n",
      "[[ 0.7]\n",
      " [-0. ]]\n",
      "W2:\n",
      "[[7.15 7.25 7.35]\n",
      " [0.45 0.55 0.65]]\n",
      "B2:\n",
      "[[7.15]\n",
      " [7.25]\n",
      " [7.35]]\n",
      "W3:\n",
      "[[0.12 0.22]\n",
      " [0.32 0.42]\n",
      " [0.52 0.62]]\n",
      "B3:\n",
      "[[7.12]\n",
      " [7.22]]\n",
      "W4:\n",
      "[[4.036]\n",
      " [4.236]]\n",
      "B4:\n",
      "[3.616]\n"
     ]
    }
   ],
   "source": [
    "w21 = np.transpose(mymodel.fc1.weight.detach().numpy().round(3))\n",
    "w22 = np.transpose(mymodel.fc2.weight.detach().numpy().round(3))\n",
    "w23 = np.transpose(mymodel.fc3.weight.detach().numpy().round(3))\n",
    "w24 = np.transpose(mymodel.fc4.weight.detach().numpy().round(3))\n",
    "\n",
    "b21 = np.transpose(mymodel.fc1.bias.detach().numpy().round(3))\n",
    "b22 = np.transpose(mymodel.fc2.bias.detach().numpy().round(3))\n",
    "b23 = np.transpose(mymodel.fc3.bias.detach().numpy().round(3))\n",
    "b24 = np.transpose(mymodel.fc4.bias.detach().numpy().round(3))\n",
    "print(\"Weights biases after second update:\")\n",
    "print(\"W1:\")\n",
    "print(w21)\n",
    "print(\"B1:\")\n",
    "print(b21)\n",
    "print(\"W2:\")\n",
    "print(w22)\n",
    "print(\"B2:\")\n",
    "print(b22)\n",
    "print(\"W3:\")\n",
    "print(w23)\n",
    "print(\"B3:\")\n",
    "print(b23)\n",
    "print(\"W4:\")\n",
    "print(w24)\n",
    "print(\"B4:\")\n",
    "print(b24)"
   ]
  }
 ],
 "metadata": {
  "kernelspec": {
   "display_name": "Python 3.8.8 ('base')",
   "language": "python",
   "name": "python3"
  },
  "language_info": {
   "codemirror_mode": {
    "name": "ipython",
    "version": 3
   },
   "file_extension": ".py",
   "mimetype": "text/x-python",
   "name": "python",
   "nbconvert_exporter": "python",
   "pygments_lexer": "ipython3",
   "version": "3.8.8"
  },
  "orig_nbformat": 4,
  "vscode": {
   "interpreter": {
    "hash": "a90aeebcf29d64a654773811cc170cb25061cb2498f10ac689db374c7bf325de"
   }
  }
 },
 "nbformat": 4,
 "nbformat_minor": 2
}
