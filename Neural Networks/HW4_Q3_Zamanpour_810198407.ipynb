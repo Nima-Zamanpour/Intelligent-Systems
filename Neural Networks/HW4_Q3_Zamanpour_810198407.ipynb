{
  "cells": [
    {
      "cell_type": "code",
      "execution_count": 1,
      "metadata": {
        "id": "jWguKB9KXWDr"
      },
      "outputs": [],
      "source": [
        "import numpy as np\n",
        "import matplotlib.pyplot as plt\n",
        "import tensorflow as tf\n",
        "import cv2\n",
        "import seaborn as sns"
      ]
    },
    {
      "cell_type": "code",
      "execution_count": 2,
      "metadata": {
        "id": "JFzw8aEuzbA7"
      },
      "outputs": [],
      "source": [
        "from keras.datasets import cifar10\n",
        "\n",
        "from sklearn.preprocessing import StandardScaler\n",
        "from keras.layers import Dense, Flatten, Conv2D, MaxPool2D, BatchNormalization, Dropout"
      ]
    },
    {
      "attachments": {},
      "cell_type": "markdown",
      "metadata": {
        "id": "CjLe1jr_G_dw"
      },
      "source": [
        "# Making model"
      ]
    },
    {
      "cell_type": "code",
      "execution_count": null,
      "metadata": {
        "colab": {
          "base_uri": "https://localhost:8080/"
        },
        "id": "N6Z9p1WgzwwM",
        "outputId": "15f94f93-ab85-46f3-82be-c9dc2ec226cc"
      },
      "outputs": [
        {
          "name": "stdout",
          "output_type": "stream",
          "text": [
            "Downloading data from https://www.cs.toronto.edu/~kriz/cifar-10-python.tar.gz\n",
            "170498071/170498071 [==============================] - 6s 0us/step\n"
          ]
        }
      ],
      "source": [
        "(x_train, y_train), (x_test, y_test) = cifar10.load_data()\n",
        "x_val, y_val = x_train[-5000:], y_train[-5000:]\n",
        "x_train, y_train = x_train[:-5000], y_train[:-5000]"
      ]
    },
    {
      "cell_type": "code",
      "execution_count": null,
      "metadata": {
        "id": "aECag9vozddt"
      },
      "outputs": [],
      "source": [
        "scaler = StandardScaler()\n",
        "x_train_cnn = scaler.fit_transform(x_train.reshape(45000,-1)).reshape(45000,32,32,3)\n",
        "x_test_cnn = scaler.transform(x_test.reshape(10000,-1)).reshape(10000,32,32,3)\n",
        "x_val_cnn = scaler.transform(x_val.reshape(5000,-1)).reshape(5000,32,32,3)"
      ]
    },
    {
      "cell_type": "code",
      "execution_count": null,
      "metadata": {
        "id": "18PueOQ8z2Po"
      },
      "outputs": [],
      "source": [
        "from tensorflow.keras.utils import to_categorical\n",
        "y_train_cat = to_categorical(y_train)\n",
        "y_test_cat = to_categorical(y_test)\n",
        "y_val_cat = to_categorical(y_val)"
      ]
    },
    {
      "cell_type": "code",
      "execution_count": 17,
      "metadata": {
        "id": "7BiD45JmqsFJ"
      },
      "outputs": [],
      "source": [
        "from keras.models import Model\n",
        "from keras.models import Sequential\n",
        "from keras.layers import Dense, Conv2D, MaxPool2D, Flatten, Dropout\n",
        "from tensorflow.keras.optimizers import RMSprop, Adam\n",
        "from tensorflow.keras.preprocessing.image import ImageDataGenerator\n"
      ]
    },
    {
      "cell_type": "code",
      "execution_count": 3,
      "metadata": {
        "colab": {
          "base_uri": "https://localhost:8080/"
        },
        "id": "hsMoGhfVXRar",
        "outputId": "de7466f1-16d9-4c60-8628-235bab5631c4"
      },
      "outputs": [
        {
          "name": "stdout",
          "output_type": "stream",
          "text": [
            "Downloading data from https://storage.googleapis.com/keras-applications/efficientnetb0_notop.h5\n",
            "16705208/16705208 [==============================] - 2s 0us/step\n"
          ]
        }
      ],
      "source": [
        "pre_trained_model = tf.keras.applications.EfficientNetB0(include_top=False,\n",
        "                              weights='imagenet',input_shape = (32,32,3))"
      ]
    },
    {
      "cell_type": "code",
      "execution_count": null,
      "metadata": {
        "id": "GN-w7--YyD3G"
      },
      "outputs": [],
      "source": [
        "last_layer = pre_trained_model.get_layer('top_activation')\n",
        "last_output = last_layer.output\n",
        "\n",
        "x = Flatten()(last_output)\n",
        "x = Dense(units = 64, activation='relu')(x)\n",
        "x = BatchNormalization()(x)\n",
        "x = Dropout(0.2)(x)\n",
        "out_x = Dense(10, activation = 'softmax')(x)\n"
      ]
    },
    {
      "cell_type": "code",
      "execution_count": null,
      "metadata": {
        "colab": {
          "base_uri": "https://localhost:8080/"
        },
        "id": "FXl5xNjFr4Lm",
        "outputId": "3029eb46-2819-4469-f8d9-f0a2d04114db"
      },
      "outputs": [
        {
          "name": "stdout",
          "output_type": "stream",
          "text": [
            "Epoch 1/10\n",
            "1407/1407 [==============================] - 66s 41ms/step - loss: 0.3254 - accuracy: 0.3324 - val_loss: 0.2731 - val_accuracy: 0.3945\n",
            "Epoch 2/10\n",
            "1407/1407 [==============================] - 58s 41ms/step - loss: 0.2154 - accuracy: 0.5412 - val_loss: 0.2234 - val_accuracy: 0.5152\n",
            "Epoch 3/10\n",
            "1407/1407 [==============================] - 56s 40ms/step - loss: 0.1810 - accuracy: 0.6257 - val_loss: 0.3022 - val_accuracy: 0.3540\n",
            "Epoch 4/10\n",
            "1407/1407 [==============================] - 57s 41ms/step - loss: 0.1581 - accuracy: 0.6789 - val_loss: 0.1501 - val_accuracy: 0.6796\n",
            "Epoch 5/10\n",
            "1407/1407 [==============================] - 54s 39ms/step - loss: 0.1404 - accuracy: 0.7184 - val_loss: 0.1317 - val_accuracy: 0.7264\n",
            "Epoch 6/10\n",
            "1407/1407 [==============================] - 54s 38ms/step - loss: 0.1269 - accuracy: 0.7463 - val_loss: 0.1256 - val_accuracy: 0.7392\n",
            "Epoch 7/10\n",
            "1407/1407 [==============================] - 55s 39ms/step - loss: 0.1154 - accuracy: 0.7684 - val_loss: 0.1289 - val_accuracy: 0.7332\n",
            "Epoch 8/10\n",
            "1407/1407 [==============================] - 54s 38ms/step - loss: 0.1047 - accuracy: 0.7927 - val_loss: 0.1869 - val_accuracy: 0.6167\n",
            "Epoch 9/10\n",
            "1407/1407 [==============================] - 55s 39ms/step - loss: 0.0963 - accuracy: 0.8096 - val_loss: 0.1264 - val_accuracy: 0.7419\n",
            "Epoch 10/10\n",
            "1407/1407 [==============================] - 55s 39ms/step - loss: 0.0888 - accuracy: 0.8281 - val_loss: 0.1314 - val_accuracy: 0.7361\n"
          ]
        }
      ],
      "source": [
        "model = Model(pre_trained_model.input , out_x)\n",
        "model.compile(optimizer = tf.keras.optimizers.Adam(learning_rate = 0.0001),\n",
        "              loss = 'categorical_crossentropy',\n",
        "              metrics = ['accuracy'])\n",
        "history = model.fit(x_train_cnn, y_train_cat,\n",
        "          batch_size = 32,\n",
        "          epochs = 10,\n",
        "          verbose = 1,\n",
        "          validation_data = (x_test_cnn, y_test_cat))"
      ]
    },
    {
      "cell_type": "markdown",
      "metadata": {
        "id": "drCaAlOGG2s1"
      },
      "source": [
        "# Evaluate Model\n"
      ]
    },
    {
      "cell_type": "code",
      "execution_count": null,
      "metadata": {
        "id": "5zQ3JtXg6OBL"
      },
      "outputs": [],
      "source": [
        "import matplotlib.pyplot as plt"
      ]
    },
    {
      "cell_type": "markdown",
      "metadata": {
        "id": "p99IMULx56jg"
      },
      "source": [
        "#### first picture"
      ]
    },
    {
      "cell_type": "code",
      "execution_count": null,
      "metadata": {
        "colab": {
          "base_uri": "https://localhost:8080/",
          "height": 283
        },
        "id": "LBD6gNZ05xR9",
        "outputId": "f86d36ee-c71d-4a64-e5d7-b2196003fd0f"
      },
      "outputs": [
        {
          "data": {
            "text/plain": [
              "<matplotlib.image.AxesImage at 0x7f40ea9d0400>"
            ]
          },
          "execution_count": 188,
          "metadata": {},
          "output_type": "execute_result"
        },
        {
          "data": {
            "image/png": "[encoded data removed]",
            "text/plain": [
              "<Figure size 432x288 with 1 Axes>"
            ]
          },
          "metadata": {
            "needs_background": "light"
          },
          "output_type": "display_data"
        }
      ],
      "source": [
        "img = cv2.imread('mixed.png')\n",
        "img = cv2.resize(img,(32,32))\n",
        "img = cv2.cvtColor(img, cv2.COLOR_BGR2RGB)\n",
        "plt.imshow(img)\n"
      ]
    },
    {
      "cell_type": "code",
      "execution_count": null,
      "metadata": {
        "id": "C_sPO1Od_7Qr"
      },
      "outputs": [],
      "source": [
        "aa = scaler.transform(img.reshape(-1,32*32*3)).reshape(32,32,3)\n"
      ]
    },
    {
      "cell_type": "code",
      "execution_count": null,
      "metadata": {
        "colab": {
          "base_uri": "https://localhost:8080/",
          "height": 53
        },
        "id": "0H5LJ-AO43hC",
        "outputId": "0b5ba49e-ffc3-4473-9c13-fc30c582e756"
      },
      "outputs": [
        {
          "name": "stdout",
          "output_type": "stream",
          "text": [
            "1/1 [==============================] - 0s 26ms/step\n"
          ]
        },
        {
          "data": {
            "application/vnd.google.colaboratory.intrinsic+json": {
              "type": "string"
            },
            "text/plain": [
              "'dog'"
            ]
          },
          "execution_count": 190,
          "metadata": {},
          "output_type": "execute_result"
        }
      ],
      "source": [
        "pred = model.predict(aa)\n",
        "class_labels = ['airplane', 'automobile', 'bird', 'cat', 'deer', 'dog', 'frog', 'horse', 'ship', 'truck']\n",
        "class_labels[np.argmax(pred)]"
      ]
    },
    {
      "cell_type": "code",
      "execution_count": null,
      "metadata": {
        "colab": {
          "base_uri": "https://localhost:8080/"
        },
        "id": "oQThVYMH6w5z",
        "outputId": "856818c6-397c-4fd7-f017-b9c0b6cddf46"
      },
      "outputs": [
        {
          "name": "stdout",
          "output_type": "stream",
          "text": [
            "dog\n",
            "frog\n",
            "cat\n"
          ]
        }
      ],
      "source": [
        "np.argsort(pred)\n",
        "print(class_labels[np.argsort(pred)[0][-1]])\n",
        "print(class_labels[np.argsort(pred)[0][-2]])\n",
        "print(class_labels[np.argsort(pred)[0][-3]])"
      ]
    },
    {
      "cell_type": "markdown",
      "metadata": {
        "id": "SVpc84eT5_Ek"
      },
      "source": [
        "#### second picture"
      ]
    },
    {
      "cell_type": "code",
      "execution_count": null,
      "metadata": {
        "colab": {
          "base_uri": "https://localhost:8080/",
          "height": 283
        },
        "id": "yIkRWYdIEhnD",
        "outputId": "65217a93-6215-4180-ba34-59d21904c66c"
      },
      "outputs": [
        {
          "data": {
            "text/plain": [
              "<matplotlib.image.AxesImage at 0x7f40ea8e5dc0>"
            ]
          },
          "execution_count": 209,
          "metadata": {},
          "output_type": "execute_result"
        },
        {
          "data": {
            "image/png": "[encoded data removed]",
            "text/plain": [
              "<Figure size 432x288 with 1 Axes>"
            ]
          },
          "metadata": {
            "needs_background": "light"
          },
          "output_type": "display_data"
        }
      ],
      "source": [
        "img = cv2.imread('mixed2.png')\n",
        "img = cv2.resize(img,(32,32))\n",
        "img = cv2.cvtColor(img, cv2.COLOR_BGR2RGB)\n",
        "plt.imshow(img)\n"
      ]
    },
    {
      "cell_type": "code",
      "execution_count": null,
      "metadata": {
        "id": "p2Va_bc3EkCt"
      },
      "outputs": [],
      "source": [
        "aa = scaler.transform(img.reshape(-1,32*32*3)).reshape(32,32,3)\n"
      ]
    },
    {
      "cell_type": "code",
      "execution_count": null,
      "metadata": {
        "colab": {
          "base_uri": "https://localhost:8080/",
          "height": 53
        },
        "id": "sKonFfoAElO_",
        "outputId": "b8897aa6-fede-49f8-e947-4f0b23464649"
      },
      "outputs": [
        {
          "name": "stdout",
          "output_type": "stream",
          "text": [
            "1/1 [==============================] - 0s 22ms/step\n"
          ]
        },
        {
          "data": {
            "application/vnd.google.colaboratory.intrinsic+json": {
              "type": "string"
            },
            "text/plain": [
              "'frog'"
            ]
          },
          "execution_count": 211,
          "metadata": {},
          "output_type": "execute_result"
        }
      ],
      "source": [
        "pred = model.predict(aa)\n",
        "class_labels = ['airplane', 'automobile', 'bird', 'cat', 'deer', 'dog', 'frog', 'horse', 'ship', 'truck']\n",
        "class_labels[np.argmax(pred)]"
      ]
    },
    {
      "cell_type": "code",
      "execution_count": null,
      "metadata": {
        "colab": {
          "base_uri": "https://localhost:8080/"
        },
        "id": "c9DblkVlEmbP",
        "outputId": "c10a1f66-7ed6-43be-b8cf-3982fb614485"
      },
      "outputs": [
        {
          "name": "stdout",
          "output_type": "stream",
          "text": [
            "frog\n",
            "bird\n",
            "cat\n"
          ]
        }
      ],
      "source": [
        "np.argsort(pred)\n",
        "print(class_labels[np.argsort(pred)[0][-1]])\n",
        "print(class_labels[np.argsort(pred)[0][-2]])\n",
        "print(class_labels[np.argsort(pred)[0][-3]])"
      ]
    },
    {
      "attachments": {},
      "cell_type": "markdown",
      "metadata": {
        "id": "nxY0VxZB9d9P"
      },
      "source": [
        "# soliving a specific network problem\n"
      ]
    },
    {
      "cell_type": "code",
      "execution_count": null,
      "metadata": {
        "id": "G1QzPNHm-agU"
      },
      "outputs": [],
      "source": [
        "pre_trained_model = tf.keras.applications.EfficientNetB0(include_top=False,\n",
        "                              weights='imagenet',input_shape = (32,32,3))"
      ]
    },
    {
      "cell_type": "code",
      "execution_count": 12,
      "metadata": {
        "id": "sfN6qd2g9o7F"
      },
      "outputs": [],
      "source": [
        "for i in range(10):\n",
        "  pre_trained_model.layers[i].trainable = True"
      ]
    },
    {
      "cell_type": "code",
      "execution_count": null,
      "metadata": {
        "id": "UsqWKQPI9_Bw"
      },
      "outputs": [],
      "source": [
        "last_layer = pre_trained_model.get_layer('top_activation')\n",
        "last_output = last_layer.output\n",
        "\n",
        "x = Flatten()(last_output)\n",
        "x = Dense(units = 64, activation='relu')(x)\n",
        "x = BatchNormalization()(x)\n",
        "x = Dropout(0.2)(x)\n",
        "out_x = Dense(10, activation = 'softmax')(x)\n"
      ]
    },
    {
      "cell_type": "code",
      "execution_count": null,
      "metadata": {
        "id": "HKM6a5pK9-6f"
      },
      "outputs": [],
      "source": [
        "model = Model(pre_trained_model.input , out_x)\n",
        "model.compile(optimizer = tf.keras.optimizers.Adam(learning_rate = 0.0001),\n",
        "              loss = 'binary_crossentropy',\n",
        "              metrics = ['accuracy'])\n",
        "history = model.fit(x_train_cnn, y_train_cat, #new trainging data with\n",
        "          batch_size = 32,                    # a new spicific label\n",
        "          epochs = 10,\n",
        "          verbose = 1,\n",
        "          validation_data = (x_test_cnn, y_test_cat))"
      ]
    },
    {
      "cell_type": "markdown",
      "metadata": {
        "id": "arte64fLFv15"
      },
      "source": [
        "# new training dataset"
      ]
    },
    {
      "cell_type": "code",
      "execution_count": 13,
      "metadata": {
        "colab": {
          "base_uri": "https://localhost:8080/"
        },
        "id": "_v60-RD5F0zb",
        "outputId": "717ff524-4ea3-4a69-e41c-cbd183ca291e"
      },
      "outputs": [
        {
          "name": "stdout",
          "output_type": "stream",
          "text": [
            "--2023-01-01 11:08:24--  https://storage.googleapis.com/laurencemoroney-blog.appspot.com/horse-or-human.zip\n",
            "Resolving storage.googleapis.com (storage.googleapis.com)... 74.125.24.128, 142.250.4.128, 142.251.10.128, ...\n",
            "Connecting to storage.googleapis.com (storage.googleapis.com)|74.125.24.128|:443... connected.\n",
            "HTTP request sent, awaiting response... 200 OK\n",
            "Length: 149574867 (143M) [application/zip]\n",
            "Saving to: ‘/content/horse-or-human.zip’\n",
            "\n",
            "/content/horse-or-h 100%[===================>] 142.65M  19.7MB/s    in 8.1s    \n",
            "\n",
            "2023-01-01 11:08:32 (17.6 MB/s) - ‘/content/horse-or-human.zip’ saved [149574867/149574867]\n",
            "\n",
            "--2023-01-01 11:08:32--  https://storage.googleapis.com/laurencemoroney-blog.appspot.com/validation-horse-or-human.zip\n",
            "Resolving storage.googleapis.com (storage.googleapis.com)... 74.125.24.128, 142.250.4.128, 142.251.10.128, ...\n",
            "Connecting to storage.googleapis.com (storage.googleapis.com)|74.125.24.128|:443... connected.\n",
            "HTTP request sent, awaiting response... 200 OK\n",
            "Length: 11480187 (11M) [application/zip]\n",
            "Saving to: ‘/content/validation-horse-or-human.zip’\n",
            "\n",
            "/content/validation 100%[===================>]  10.95M  6.60MB/s    in 1.7s    \n",
            "\n",
            "2023-01-01 11:08:34 (6.60 MB/s) - ‘/content/validation-horse-or-human.zip’ saved [11480187/11480187]\n",
            "\n"
          ]
        }
      ],
      "source": [
        "!wget --no-check-certificate https://storage.googleapis.com/laurencemoroney-blog.appspot.com/horse-or-human.zip -O /content/horse-or-human.zip\n",
        "!wget --no-check-certificate https://storage.googleapis.com/laurencemoroney-blog.appspot.com/validation-horse-or-human.zip -O /content/validation-horse-or-human.zip "
      ]
    },
    {
      "cell_type": "code",
      "execution_count": 14,
      "metadata": {
        "id": "dKmnLA1OGJBU"
      },
      "outputs": [],
      "source": [
        "import os\n",
        "import zipfile\n",
        "\n",
        "local_zip = '/content/horse-or-human.zip'\n",
        "zip_ref = zipfile.ZipFile(local_zip, 'r')\n",
        "zip_ref.extractall('/content/training')\n",
        "\n",
        "local_zip = '/content/validation-horse-or-human.zip'\n",
        "zip_ref = zipfile.ZipFile(local_zip, 'r')\n",
        "zip_ref.extractall('/content/validation')"
      ]
    },
    {
      "cell_type": "code",
      "execution_count": 15,
      "metadata": {
        "id": "Al78OSXUGLbh"
      },
      "outputs": [],
      "source": [
        "train_dir = '/content/training'\n",
        "validation_dir = '/content/validation'"
      ]
    },
    {
      "cell_type": "code",
      "execution_count": 53,
      "metadata": {
        "id": "ziu7O4JDGRzz"
      },
      "outputs": [],
      "source": [
        "train_datagen = ImageDataGenerator(\n",
        "    rescale = 1/255.,\n",
        "    rotation_range = 40,\n",
        "    width_shift_range = 0.2,\n",
        "    height_shift_range = 0.2,\n",
        "    zoom_range = 0.2,\n",
        "    horizontal_flip = True\n",
        ")\n",
        "\n",
        "test_datagen = ImageDataGenerator(\n",
        "    rescale = 1/255.\n",
        ")"
      ]
    },
    {
      "cell_type": "code",
      "execution_count": 54,
      "metadata": {
        "colab": {
          "base_uri": "https://localhost:8080/"
        },
        "id": "LJOHs8htGTjW",
        "outputId": "c1c78366-6b3e-460a-dc16-82c433a6b1c9"
      },
      "outputs": [
        {
          "name": "stdout",
          "output_type": "stream",
          "text": [
            "Found 1027 images belonging to 2 classes.\n",
            "Found 256 images belonging to 2 classes.\n"
          ]
        }
      ],
      "source": [
        "train_generator =  train_datagen.flow_from_directory(\n",
        "    train_dir,\n",
        "    batch_size = 32,\n",
        "    class_mode = 'binary',\n",
        "    target_size = (160,160)\n",
        ")\n",
        "\n",
        "test_generator =  test_datagen.flow_from_directory(\n",
        "    validation_dir,\n",
        "    batch_size = 32,\n",
        "    class_mode = 'binary',\n",
        "    target_size = (160,160)\n",
        ")"
      ]
    },
    {
      "cell_type": "code",
      "execution_count": 55,
      "metadata": {
        "colab": {
          "base_uri": "https://localhost:8080/",
          "height": 248
        },
        "id": "-rdMKW0mGVAN",
        "outputId": "c9d60ae8-cad8-4d69-89a7-ab5b4527934d"
      },
      "outputs": [
        {
          "data": {
            "image/png": "[encoded data removed]",
            "text/plain": [
              "<Figure size 432x288 with 1 Axes>"
            ]
          },
          "metadata": {
            "needs_background": "light"
          },
          "output_type": "display_data"
        }
      ],
      "source": [
        "import cv2\n",
        "import numpy as np\n",
        "import matplotlib.pyplot as plt\n",
        "img = cv2.imread('/content/training/horses/horse01-1.png')[:,:,::-1]\n",
        "img = np.expand_dims(img, axis = 0)\n",
        "plt.imshow(img[0])\n",
        "plt.axis('off')\n",
        "plt.show()"
      ]
    },
    {
      "cell_type": "code",
      "execution_count": 56,
      "metadata": {
        "id": "ALuPOn_HIDTO"
      },
      "outputs": [],
      "source": [
        "pre_trained_model = tf.keras.applications.EfficientNetB0(include_top=False,\n",
        "                              weights='imagenet',input_shape = (160,160,3))\n",
        "\n",
        "last_layer = pre_trained_model.get_layer('top_activation')\n",
        "last_output = last_layer.output\n",
        "\n",
        "x = Flatten()(last_output)\n",
        "x = Dense(units = 64, activation='relu')(x)\n",
        "out_x = Dense(1, activation = 'softmax')(x)"
      ]
    },
    {
      "cell_type": "code",
      "execution_count": 57,
      "metadata": {
        "colab": {
          "base_uri": "https://localhost:8080/"
        },
        "id": "pb1fNp3OHKzY",
        "outputId": "cedaafae-f448-4bf3-f8e5-39ed9e65260f"
      },
      "outputs": [
        {
          "name": "stdout",
          "output_type": "stream",
          "text": [
            "Epoch 1/10\n",
            "33/33 [==============================] - 24s 455ms/step - loss: 0.3111 - accuracy: 0.5131 - val_loss: 5.0434 - val_accuracy: 0.5000\n",
            "Epoch 2/10\n",
            "33/33 [==============================] - 14s 415ms/step - loss: 0.0811 - accuracy: 0.5131 - val_loss: 2.4877 - val_accuracy: 0.5000\n",
            "Epoch 3/10\n",
            "33/33 [==============================] - 14s 414ms/step - loss: 0.0285 - accuracy: 0.5131 - val_loss: 2.1935 - val_accuracy: 0.5000\n",
            "Epoch 4/10\n",
            "33/33 [==============================] - 14s 417ms/step - loss: 0.0444 - accuracy: 0.5131 - val_loss: 0.7279 - val_accuracy: 0.5000\n",
            "Epoch 5/10\n",
            "33/33 [==============================] - 14s 414ms/step - loss: 0.0302 - accuracy: 0.5131 - val_loss: 1.1201 - val_accuracy: 0.5000\n",
            "Epoch 6/10\n",
            "33/33 [==============================] - 14s 414ms/step - loss: 0.0159 - accuracy: 0.5131 - val_loss: 1.6879 - val_accuracy: 0.5000\n",
            "Epoch 7/10\n",
            "33/33 [==============================] - 14s 412ms/step - loss: 0.0078 - accuracy: 0.5131 - val_loss: 3.2177 - val_accuracy: 0.5000\n",
            "Epoch 8/10\n",
            "33/33 [==============================] - 14s 416ms/step - loss: 0.0387 - accuracy: 0.5131 - val_loss: 0.8840 - val_accuracy: 0.5000\n",
            "Epoch 9/10\n",
            "33/33 [==============================] - 14s 414ms/step - loss: 0.2460 - accuracy: 0.5131 - val_loss: 2.7251 - val_accuracy: 0.5000\n",
            "Epoch 10/10\n",
            "33/33 [==============================] - 14s 410ms/step - loss: 0.1152 - accuracy: 0.5131 - val_loss: 121.6962 - val_accuracy: 0.5000\n"
          ]
        }
      ],
      "source": [
        "model = Model(pre_trained_model.input , out_x)\n",
        "model.compile(optimizer = tf.keras.optimizers.Adam(learning_rate = 0.001),\n",
        "              loss = 'binary_crossentropy',\n",
        "              metrics = ['accuracy'])\n",
        "\n",
        "history = model.fit(\n",
        "    train_generator,\n",
        "    epochs=10,\n",
        "    verbose=1,\n",
        "    batch_size = 32,\n",
        "    validation_data=test_generator\n",
        ")"
      ]
    }
  ],
  "metadata": {
    "accelerator": "GPU",
    "colab": {
      "collapsed_sections": [
        "drCaAlOGG2s1",
        "p99IMULx56jg",
        "nxY0VxZB9d9P"
      ],
      "provenance": []
    },
    "gpuClass": "standard",
    "kernelspec": {
      "display_name": "Python 3.10.8 64-bit",
      "language": "python",
      "name": "python3"
    },
    "language_info": {
      "name": "python",
      "version": "3.10.8"
    },
    "vscode": {
      "interpreter": {
        "hash": "27f6fea6f47ae512550f0b8facdbd035a93e1dd89633f7bf2dd00a2502c71d0d"
      }
    }
  },
  "nbformat": 4,
  "nbformat_minor": 0
}
